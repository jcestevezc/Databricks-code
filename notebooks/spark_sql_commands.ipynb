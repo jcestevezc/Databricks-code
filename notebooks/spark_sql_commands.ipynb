{
 "cells": [
  {
   "cell_type": "markdown",
   "metadata": {},
   "source": [
    "# SparkSQL Commands"
   ]
  },
  {
   "cell_type": "markdown",
   "metadata": {},
   "source": [
    "This notebook summarizes common SparkSQL commands often used in interviews."
   ]
  },
  {
   "cell_type": "markdown",
   "metadata": {},
   "source": [
    "## 1. Create database and use it"
   ]
  },
  {
   "cell_type": "code",
   "metadata": {},
   "execution_count": null,
   "outputs": [],
   "source": "spark.sql(\"CREATE DATABASE IF NOT EXISTS example_db\")\n\nspark.sql(\"USE example_db\")"
  },
  {
   "cell_type": "markdown",
   "metadata": {},
   "source": [
    "## 2. Create table"
   ]
  },
  {
   "cell_type": "code",
   "metadata": {},
   "execution_count": null,
   "outputs": [],
   "source": "spark.sql(\"CREATE TABLE IF NOT EXISTS example(id INT, name STRING) USING DELTA\")"
  },
  {
   "cell_type": "markdown",
   "metadata": {},
   "source": [
    "## 3. Insert data"
   ]
  },
  {
   "cell_type": "code",
   "metadata": {},
   "execution_count": null,
   "outputs": [],
   "source": "spark.sql(\"INSERT INTO example VALUES (1, 'Alice'), (2, 'Bob')\")"
  },
  {
   "cell_type": "markdown",
   "metadata": {},
   "source": [
    "## 4. Query data"
   ]
  },
  {
   "cell_type": "code",
   "metadata": {},
   "execution_count": null,
   "outputs": [],
   "source": "spark.sql(\"SELECT * FROM example WHERE id = 1\")"
  },
  {
   "cell_type": "markdown",
   "metadata": {},
   "source": [
    "## 5. Aggregations"
   ]
  },
  {
   "cell_type": "code",
   "metadata": {},
   "execution_count": null,
   "outputs": [],
   "source": "spark.sql(\"SELECT name, COUNT(*) AS total FROM example GROUP BY name\")"
  },
  {
   "cell_type": "markdown",
   "metadata": {},
   "source": [
    "## 6. Table joins"
   ]
  },
  {
   "cell_type": "code",
   "metadata": {},
   "execution_count": null,
   "outputs": [],
   "source": "spark.sql(\"SELECT a.id, b.value FROM table_a a JOIN table_b b ON a.id = b.id\")"
  },
  {
   "cell_type": "markdown",
   "metadata": {},
   "source": [
    "## 7. Window functions"
   ]
  },
  {
   "cell_type": "code",
   "metadata": {},
   "execution_count": null,
   "outputs": [],
   "source": "spark.sql(\"SELECT id, value, ROW_NUMBER() OVER (PARTITION BY id ORDER BY value DESC) AS rn FROM example\")"
  },
  {
   "cell_type": "markdown",
   "metadata": {},
   "source": [
    "## 8. Subqueries and CTE"
   ]
  },
  {
   "cell_type": "code",
   "metadata": {},
   "execution_count": null,
   "outputs": [],
   "source": "spark.sql(\"WITH cte AS (SELECT id FROM example WHERE value > 0) SELECT * FROM cte\")"
  },
  {
   "cell_type": "markdown",
   "metadata": {},
   "source": [
    "## 9. Create view"
   ]
  },
  {
   "cell_type": "code",
   "metadata": {},
   "execution_count": null,
   "outputs": [],
   "source": "spark.sql(\"CREATE OR REPLACE VIEW vista_example AS SELECT * FROM example\")"
  },
  {
   "cell_type": "markdown",
   "metadata": {},
   "source": [
    "## 10. Create temporary view"
   ]
  },
  {
   "cell_type": "code",
   "metadata": {},
   "execution_count": null,
   "outputs": [],
   "source": "spark.sql(\"CREATE OR REPLACE TEMP VIEW temp_view AS SELECT * FROM example\")"
  },
  {
   "cell_type": "markdown",
   "metadata": {},
   "source": [
    "## 11. Show and describe tables"
   ]
  },
  {
   "cell_type": "code",
   "metadata": {},
   "execution_count": null,
   "outputs": [],
   "source": "spark.sql(\"SHOW TABLES\")\n\nspark.sql(\"DESCRIBE TABLE example\")"
  },
  {
   "cell_type": "markdown",
   "metadata": {},
   "source": [
    "## 12. Add column"
   ]
  },
  {
   "cell_type": "code",
   "metadata": {},
   "execution_count": null,
   "outputs": [],
   "source": "spark.sql(\"ALTER TABLE example ADD COLUMNS (age INT)\")"
  },
  {
   "cell_type": "markdown",
   "metadata": {},
   "source": [
    "## 13. Drop column"
   ]
  },
  {
   "cell_type": "code",
   "metadata": {},
   "execution_count": null,
   "outputs": [],
   "source": "spark.sql(\"ALTER TABLE example DROP COLUMN age\")"
  },
  {
   "cell_type": "markdown",
   "metadata": {},
   "source": [
    "## 14. Update and delete records"
   ]
  },
  {
   "cell_type": "code",
   "metadata": {},
   "execution_count": null,
   "outputs": [],
   "source": "spark.sql(\"UPDATE example SET name = 'Updated' WHERE id = 1\")\n\nspark.sql(\"DELETE FROM example WHERE id = 2\")"
  },
  {
   "cell_type": "markdown",
   "metadata": {},
   "source": [
    "## 15. Sort and limit"
   ]
  },
  {
   "cell_type": "code",
   "metadata": {},
   "execution_count": null,
   "outputs": [],
   "source": "spark.sql(\"SELECT * FROM example ORDER BY id DESC LIMIT 10\")"
  },
  {
   "cell_type": "markdown",
   "metadata": {},
   "source": [
    "## 16. Union and Union All"
   ]
  },
  {
   "cell_type": "code",
   "metadata": {},
   "execution_count": null,
   "outputs": [],
   "source": "spark.sql(\"SELECT * FROM table_a UNION ALL SELECT * FROM table_b\")"
  },
  {
   "cell_type": "markdown",
   "metadata": {},
   "source": [
    "## 17. Partitioned tables"
   ]
  },
  {
   "cell_type": "code",
   "metadata": {},
   "execution_count": null,
   "outputs": [],
   "source": "spark.sql(\"CREATE TABLE part_tbl(id INT, category STRING) USING DELTA PARTITIONED BY (category)\")"
  },
  {
   "cell_type": "markdown",
   "metadata": {},
   "source": [
    "## 18. Cache and Unpersist"
   ]
  },
  {
   "cell_type": "code",
   "metadata": {},
   "execution_count": null,
   "outputs": [],
   "source": "spark.sql(\"CACHE TABLE example\")\n\nspark.sql(\"UNCACHE TABLE example\")"
  }
 ],
 "metadata": {
  "kernelspec": {
   "display_name": "Python 3",
   "language": "python",
   "name": "python3"
  },
  "language_info": {
   "name": "python",
   "pygments_lexer": "python3"
  }
 },
 "nbformat": 4,
 "nbformat_minor": 2
}
