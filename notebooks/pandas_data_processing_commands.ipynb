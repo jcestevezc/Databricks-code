{
 "cells": [
  {
   "cell_type": "markdown",
   "metadata": {},
   "source": [
    "# Pandas Data Processing Commands (SQL Equivalents)"
   ]
  },
  {
   "cell_type": "markdown",
   "metadata": {},
   "source": [
    "This notebook lists pandas commands that correspond to common SQL operations."
   ]
  },
  {
   "cell_type": "markdown",
   "metadata": {},
   "source": [
    "## 1. Import Pandas"
   ]
  },
  {
   "cell_type": "code",
   "execution_count": null,
   "metadata": {},
   "outputs": [],
   "source": "import pandas as pd"
  },
  {
   "cell_type": "markdown",
   "metadata": {},
   "source": [
    "## 2. Read Data from CSV"
   ]
  },
  {
   "cell_type": "code",
   "execution_count": null,
   "metadata": {},
   "outputs": [],
   "source": "df = pd.read_csv(\"input.csv\")"
  },
  {
   "cell_type": "markdown",
   "metadata": {},
   "source": [
    "## 3. Inspect Data"
   ]
  },
  {
   "cell_type": "code",
   "execution_count": null,
   "metadata": {},
   "outputs": [],
   "source": "df.head()\n\ndf.info()"
  },
  {
   "cell_type": "markdown",
   "metadata": {},
   "source": [
    "## 4. Select Columns (SELECT)"
   ]
  },
  {
   "cell_type": "code",
   "execution_count": null,
   "metadata": {},
   "outputs": [],
   "source": "df[[\"col1\", \"col2\"]]"
  },
  {
   "cell_type": "markdown",
   "metadata": {},
   "source": [
    "## 5. Filter Rows (WHERE)"
   ]
  },
  {
   "cell_type": "code",
   "execution_count": null,
   "metadata": {},
   "outputs": [],
   "source": "df[df[\"col\"] > 0]"
  },
  {
   "cell_type": "markdown",
   "metadata": {},
   "source": [
    "## 6. Create Columns or Expressions"
   ]
  },
  {
   "cell_type": "code",
   "execution_count": null,
   "metadata": {},
   "outputs": [],
   "source": "df[\"new_col\"] = df[\"col1\"] + df[\"col2\"]"
  },
  {
   "cell_type": "markdown",
   "metadata": {},
   "source": [
    "## 7. Rename Columns (AS)"
   ]
  },
  {
   "cell_type": "code",
   "execution_count": null,
   "metadata": {},
   "outputs": [],
   "source": "df = df.rename(columns={\"old_name\": \"new_name\"})"
  },
  {
   "cell_type": "markdown",
   "metadata": {},
   "source": [
    "## 8. Sort Values (ORDER BY)"
   ]
  },
  {
   "cell_type": "code",
   "execution_count": null,
   "metadata": {},
   "outputs": [],
   "source": "df.sort_values(\"col\")"
  },
  {
   "cell_type": "markdown",
   "metadata": {},
   "source": [
    "## 9. Distinct Values (DISTINCT)"
   ]
  },
  {
   "cell_type": "code",
   "execution_count": null,
   "metadata": {},
   "outputs": [],
   "source": "df[\"col\"].drop_duplicates()\n\ndf.drop_duplicates()"
  },
  {
   "cell_type": "markdown",
   "metadata": {},
   "source": [
    "## 10. Group and Aggregate (GROUP BY)"
   ]
  },
  {
   "cell_type": "code",
   "execution_count": null,
   "metadata": {},
   "outputs": [],
   "source": "df.groupby(\"key\").agg({\"value\": \"sum\"})"
  },
  {
   "cell_type": "markdown",
   "metadata": {},
   "source": [
    "## 11. Filter Aggregated Data (HAVING)"
   ]
  },
  {
   "cell_type": "code",
   "execution_count": null,
   "metadata": {},
   "outputs": [],
   "source": "grouped = df.groupby(\"key\")[\"value\"].sum()\nfiltered = grouped[grouped > 100]"
  },
  {
   "cell_type": "markdown",
   "metadata": {},
   "source": [
    "## 12. Join DataFrames (JOIN)"
   ]
  },
  {
   "cell_type": "code",
   "execution_count": null,
   "metadata": {},
   "outputs": [],
   "source": "df1.merge(df2, on=\"key\", how=\"inner\")"
  },
  {
   "cell_type": "markdown",
   "metadata": {},
   "source": [
    "## 13. Union DataFrames (UNION)"
   ]
  },
  {
   "cell_type": "code",
   "execution_count": null,
   "metadata": {},
   "outputs": [],
   "source": "pd.concat([df1, df2], ignore_index=True)"
  },
  {
   "cell_type": "markdown",
   "metadata": {},
   "source": [
    "## 14. Limit Rows (LIMIT)"
   ]
  },
  {
   "cell_type": "code",
   "execution_count": null,
   "metadata": {},
   "outputs": [],
   "source": "df.head(10)"
  },
  {
   "cell_type": "markdown",
   "metadata": {},
   "source": [
    "## 15. Handle Missing Values"
   ]
  },
  {
   "cell_type": "code",
   "execution_count": null,
   "metadata": {},
   "outputs": [],
   "source": "df.fillna(0)\n\ndf.dropna()"
  },
  {
   "cell_type": "markdown",
   "metadata": {},
   "source": [
    "## 16. Save to CSV"
   ]
  },
  {
   "cell_type": "code",
   "execution_count": null,
   "metadata": {},
   "outputs": [],
   "source": "df.to_csv(\"output.csv\", index=False)"
  }
 ],
 "metadata": {
  "kernelspec": {
   "display_name": "Python 3",
   "language": "python",
   "name": "python3"
  },
  "language_info": {
   "name": "python"
  }
 },
 "nbformat": 4,
 "nbformat_minor": 2
}
