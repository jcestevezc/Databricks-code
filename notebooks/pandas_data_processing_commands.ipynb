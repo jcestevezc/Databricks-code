{
 "cells": [
  {
   "cell_type": "markdown",
   "metadata": {},
   "source": ["# Pandas Data Processing Commands"]
  },
  {
   "cell_type": "markdown",
   "metadata": {},
   "source": ["This notebook lists common commands for working with data using Pandas."]
  },
  {
   "cell_type": "markdown",
   "metadata": {},
   "source": ["## 1. Import Pandas"]
  },
  {
   "cell_type": "code",
   "metadata": {},
   "execution_count": null,
   "outputs": [],
   "source": "import pandas as pd"
  },
  {
   "cell_type": "markdown",
   "metadata": {},
   "source": ["## 2. Read Data from CSV"]
  },
  {
   "cell_type": "code",
   "metadata": {},
   "execution_count": null,
   "outputs": [],
   "source": "df = pd.read_csv('input.csv')"
  },
  {
   "cell_type": "markdown",
   "metadata": {},
   "source": ["## 3. Inspect Data"]
  },
  {
   "cell_type": "code",
   "metadata": {},
   "execution_count": null,
   "outputs": [],
   "source": "df.head()\n\ndf.info()"
  },
  {
   "cell_type": "markdown",
   "metadata": {},
   "source": ["## 4. Select Columns"]
  },
  {
   "cell_type": "code",
   "metadata": {},
   "execution_count": null,
   "outputs": [],
   "source": "df[['col1', 'col2']]"
  },
  {
   "cell_type": "markdown",
   "metadata": {},
   "source": ["## 5. Filter Rows"]
  },
  {
   "cell_type": "code",
   "metadata": {},
   "execution_count": null,
   "outputs": [],
   "source": "df[df['col'] > 0]"
  },
  {
   "cell_type": "markdown",
   "metadata": {},
   "source": ["## 6. Grouping and Aggregation"]
  },
  {
   "cell_type": "code",
   "metadata": {},
   "execution_count": null,
   "outputs": [],
   "source": "df.groupby('key')['value'].sum()"
  },
  {
   "cell_type": "markdown",
   "metadata": {},
   "source": ["## 7. Join DataFrames"]
  },
  {
   "cell_type": "code",
   "metadata": {},
   "execution_count": null,
   "outputs": [],
   "source": "merged = df1.merge(df2, on='key', how='inner')"
  },
  {
   "cell_type": "markdown",
   "metadata": {},
   "source": ["## 8. Handle Missing Values"]
  },
  {
   "cell_type": "code",
   "metadata": {},
   "execution_count": null,
   "outputs": [],
   "source": "df.fillna(0)\n\ndf.dropna()"
  },
  {
   "cell_type": "markdown",
   "metadata": {},
   "source": ["## 9. Save to CSV"]
  },
  {
   "cell_type": "code",
   "metadata": {},
   "execution_count": null,
   "outputs": [],
   "source": "df.to_csv('output.csv', index=False)"
  }
 ],
 "metadata": {
  "kernelspec": {
   "display_name": "Python 3",
   "language": "python",
   "name": "python3"
  },
  "language_info": {
   "name": "python",
   "pygments_lexer": "python3"
  }
 },
 "nbformat": 4,
 "nbformat_minor": 2
}
